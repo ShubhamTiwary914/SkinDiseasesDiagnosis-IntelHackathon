{
 "cells": [
  {
   "cell_type": "markdown",
   "metadata": {},
   "source": []
  },
  {
   "cell_type": "markdown",
   "metadata": {},
   "source": [
    "### Import & Load Packages"
   ]
  },
  {
   "cell_type": "code",
   "execution_count": 1,
   "metadata": {},
   "outputs": [],
   "source": [
    "from langchain.vectorstores import Chroma\n",
    "from langchain.embeddings import HuggingFaceEmbeddings\n",
    "from langchain.text_splitter import RecursiveCharacterTextSplitter\n",
    "from langchain.chains import VectorDBQA\n",
    "from langchain.document_loaders import PyPDFLoader, DirectoryLoader, TextLoader\n",
    "from langchain.llms import CTransformers"
   ]
  },
  {
   "cell_type": "code",
   "execution_count": 2,
   "metadata": {},
   "outputs": [],
   "source": [
    "def loadPdf(dataPath):\n",
    "    chunk = DirectoryLoader(\n",
    "        dataPath,\n",
    "        glob=\"*.pdf\",\n",
    "        loader_cls = PyPDFLoader\n",
    "    )\n",
    "    return chunk.load()\n",
    "documents = loadPdf('data/')"
   ]
  },
  {
   "cell_type": "code",
   "execution_count": 14,
   "metadata": {},
   "outputs": [],
   "source": [
    "loader = TextLoader('./data/state.txt')\n",
    "documents = loader.load()"
   ]
  },
  {
   "cell_type": "code",
   "execution_count": 15,
   "metadata": {},
   "outputs": [],
   "source": [
    "text_splitter = RecursiveCharacterTextSplitter(chunk_size=500, chunk_overlap=False)\n",
    "texts = text_splitter.split_documents(documents)"
   ]
  },
  {
   "cell_type": "code",
   "execution_count": 16,
   "metadata": {},
   "outputs": [
    {
     "data": {
      "text/plain": [
       "HuggingFaceEmbeddings(client=SentenceTransformer(\n",
       "  (0): Transformer({'max_seq_length': 256, 'do_lower_case': False}) with Transformer model: BertModel \n",
       "  (1): Pooling({'word_embedding_dimension': 384, 'pooling_mode_cls_token': False, 'pooling_mode_mean_tokens': True, 'pooling_mode_max_tokens': False, 'pooling_mode_mean_sqrt_len_tokens': False, 'pooling_mode_weightedmean_tokens': False, 'pooling_mode_lasttoken': False, 'include_prompt': True})\n",
       "  (2): Normalize()\n",
       "), model_name='sentence-transformers/all-MiniLM-L6-v2', cache_folder=None, model_kwargs={}, encode_kwargs={}, multi_process=False, show_progress=False)"
      ]
     },
     "execution_count": 16,
     "metadata": {},
     "output_type": "execute_result"
    }
   ],
   "source": [
    "#Download embedding model\n",
    "def download_hugging_face_embeddings(model):\n",
    "    embeddings = HuggingFaceEmbeddings(model_name=model)\n",
    "    return embeddings\n",
    "\n",
    "embeddings = download_hugging_face_embeddings(\"sentence-transformers/all-MiniLM-L6-v2\")\n",
    "embeddings"
   ]
  },
  {
   "cell_type": "markdown",
   "metadata": {},
   "source": [
    "### Save Chroma DB into local storage"
   ]
  },
  {
   "cell_type": "code",
   "execution_count": 8,
   "metadata": {},
   "outputs": [],
   "source": [
    "persist_directory = 'db'\n",
    "vectordb = Chroma.from_documents(documents=texts, embedding=embeddings, persist_directory=persist_directory)"
   ]
  },
  {
   "cell_type": "code",
   "execution_count": 9,
   "metadata": {},
   "outputs": [],
   "source": [
    "vectordb.persist()"
   ]
  },
  {
   "cell_type": "markdown",
   "metadata": {},
   "source": [
    "### Load stored DB from storage"
   ]
  },
  {
   "cell_type": "code",
   "execution_count": 17,
   "metadata": {},
   "outputs": [
    {
     "data": {
      "text/plain": [
       "CTransformers(client=<ctransformers.llm.LLM object at 0x000001E0667991E0>, model='bin/llama-2-7b-chat.ggmlv3.q4_0.bin', model_type='llama', config={'max_new_tokens': 512, 'temperature': 0.8})"
      ]
     },
     "execution_count": 17,
     "metadata": {},
     "output_type": "execute_result"
    }
   ],
   "source": [
    "llm=CTransformers(\n",
    "    model=\"bin/llama-2-7b-chat.ggmlv3.q4_0.bin\",              \n",
    "    model_type=\"llama\",\n",
    "    config={'max_new_tokens':512,\n",
    "    'temperature':0.8}\n",
    ")\n",
    "llm"
   ]
  },
  {
   "cell_type": "code",
   "execution_count": 18,
   "metadata": {},
   "outputs": [
    {
     "name": "stderr",
     "output_type": "stream",
     "text": [
      "c:\\Users\\Rajat Balyan\\miniconda3\\envs\\llm-new\\lib\\site-packages\\langchain\\chains\\retrieval_qa\\base.py:256: UserWarning: `VectorDBQA` is deprecated - please use `from langchain.chains import RetrievalQA`\n",
      "  warnings.warn(\n"
     ]
    }
   ],
   "source": [
    "# Now we can load the persisted database from disk, and use it as normal. \n",
    "vectordb = Chroma(persist_directory=persist_directory, embedding_function=embeddings)\n",
    "qa = VectorDBQA.from_chain_type(llm=llm, chain_type=\"stuff\", vectorstore=vectordb)"
   ]
  },
  {
   "cell_type": "code",
   "execution_count": 19,
   "metadata": {},
   "outputs": [
    {
     "name": "stderr",
     "output_type": "stream",
     "text": [
      "Number of tokens (762) exceeded maximum context length (512).\n"
     ]
    },
    {
     "name": "stderr",
     "output_type": "stream",
     "text": [
      "Number of tokens (763) exceeded maximum context length (512).\n",
      "Number of tokens (764) exceeded maximum context length (512).\n",
      "Number of tokens (765) exceeded maximum context length (512).\n",
      "Number of tokens (766) exceeded maximum context length (512).\n",
      "Number of tokens (767) exceeded maximum context length (512).\n",
      "Number of tokens (768) exceeded maximum context length (512).\n",
      "Number of tokens (769) exceeded maximum context length (512).\n",
      "Number of tokens (770) exceeded maximum context length (512).\n",
      "Number of tokens (771) exceeded maximum context length (512).\n",
      "Number of tokens (772) exceeded maximum context length (512).\n",
      "Number of tokens (773) exceeded maximum context length (512).\n",
      "Number of tokens (774) exceeded maximum context length (512).\n",
      "Number of tokens (775) exceeded maximum context length (512).\n",
      "Number of tokens (776) exceeded maximum context length (512).\n",
      "Number of tokens (777) exceeded maximum context length (512).\n",
      "Number of tokens (778) exceeded maximum context length (512).\n",
      "Number of tokens (779) exceeded maximum context length (512).\n"
     ]
    },
    {
     "data": {
      "text/plain": [
       "{'query': \"I'm having red rashes on my arm and it's itching so much. I don't know what to do.\",\n",
       " 'result': '\\nThe question: None of question at the following questions or make the question .'}"
      ]
     },
     "execution_count": 19,
     "metadata": {},
     "output_type": "execute_result"
    }
   ],
   "source": [
    "query = \"I'm having red rashes on my arm and it's itching so much. I don't know what to do.\"\n",
    "qa.invoke(query)"
   ]
  },
  {
   "cell_type": "code",
   "execution_count": null,
   "metadata": {},
   "outputs": [],
   "source": []
  }
 ],
 "metadata": {
  "kernelspec": {
   "display_name": "llm",
   "language": "python",
   "name": "python3"
  },
  "language_info": {
   "codemirror_mode": {
    "name": "ipython",
    "version": 3
   },
   "file_extension": ".py",
   "mimetype": "text/x-python",
   "name": "python",
   "nbconvert_exporter": "python",
   "pygments_lexer": "ipython3",
   "version": "3.10.13"
  }
 },
 "nbformat": 4,
 "nbformat_minor": 2
}
